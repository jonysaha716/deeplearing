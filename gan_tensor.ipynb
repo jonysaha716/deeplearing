{
 "cells": [
  {
   "cell_type": "code",
   "execution_count": 0,
   "metadata": {
    "colab": {},
    "colab_type": "code",
    "id": "cyAYYFLVC_Cp"
   },
   "outputs": [],
   "source": [
    "import numpy as np\n",
    "import tensorflow as tf\n",
    "import matplotlib.pyplot as plt"
   ]
  },
  {
   "cell_type": "code",
   "execution_count": 13,
   "metadata": {
    "colab": {
     "base_uri": "https://localhost:8080/",
     "height": 595
    },
    "colab_type": "code",
    "executionInfo": {
     "elapsed": 9811,
     "status": "ok",
     "timestamp": 1577397846680,
     "user": {
      "displayName": "Jony Saha",
      "photoUrl": "https://lh3.googleusercontent.com/a-/AAuE7mBrOWwOjomTy_ONMaUlKyEAGHd9eyZM5MChVQRYpA=s64",
      "userId": "07890637528431419812"
     },
     "user_tz": -330
    },
    "id": "DElstFmwO4iQ",
    "outputId": "55c374d7-18e0-4cea-ffc3-d0b5496c906c"
   },
   "outputs": [
    {
     "name": "stdout",
     "output_type": "stream",
     "text": [
      "--2019-12-26 22:03:57--  http://fashion-mnist.s3-website.eu-central-1.amazonaws.com/train-images-idx3-ubyte.gz\n",
      "Resolving fashion-mnist.s3-website.eu-central-1.amazonaws.com (fashion-mnist.s3-website.eu-central-1.amazonaws.com)... 52.219.72.90\n",
      "Connecting to fashion-mnist.s3-website.eu-central-1.amazonaws.com (fashion-mnist.s3-website.eu-central-1.amazonaws.com)|52.219.72.90|:80... connected.\n",
      "HTTP request sent, awaiting response... 200 OK\n",
      "Length: 26421880 (25M) [binary/octet-stream]\n",
      "Saving to: ‘train-images-idx3-ubyte.gz’\n",
      "\n",
      "train-images-idx3-u 100%[===================>]  25.20M  16.7MB/s    in 1.5s    \n",
      "\n",
      "2019-12-26 22:03:59 (16.7 MB/s) - ‘train-images-idx3-ubyte.gz’ saved [26421880/26421880]\n",
      "\n",
      "--2019-12-26 22:04:00--  http://fashion-mnist.s3-website.eu-central-1.amazonaws.com/train-labels-idx1-ubyte.gz\n",
      "Resolving fashion-mnist.s3-website.eu-central-1.amazonaws.com (fashion-mnist.s3-website.eu-central-1.amazonaws.com)... 52.219.72.90\n",
      "Connecting to fashion-mnist.s3-website.eu-central-1.amazonaws.com (fashion-mnist.s3-website.eu-central-1.amazonaws.com)|52.219.72.90|:80... connected.\n",
      "HTTP request sent, awaiting response... 200 OK\n",
      "Length: 29515 (29K) [binary/octet-stream]\n",
      "Saving to: ‘train-labels-idx1-ubyte.gz’\n",
      "\n",
      "train-labels-idx1-u 100%[===================>]  28.82K  --.-KB/s    in 0.1s    \n",
      "\n",
      "2019-12-26 22:04:01 (288 KB/s) - ‘train-labels-idx1-ubyte.gz’ saved [29515/29515]\n",
      "\n",
      "--2019-12-26 22:04:02--  http://fashion-mnist.s3-website.eu-central-1.amazonaws.com/t1ok-images-idx3-ubyte.gz\n",
      "Resolving fashion-mnist.s3-website.eu-central-1.amazonaws.com (fashion-mnist.s3-website.eu-central-1.amazonaws.com)... 52.219.73.66\n",
      "Connecting to fashion-mnist.s3-website.eu-central-1.amazonaws.com (fashion-mnist.s3-website.eu-central-1.amazonaws.com)|52.219.73.66|:80... connected.\n",
      "HTTP request sent, awaiting response... 404 Not Found\n",
      "2019-12-26 22:04:02 ERROR 404: Not Found.\n",
      "\n",
      "--2019-12-26 22:04:04--  http://fashion-mnist.s3-website.eu-central-1.amazonaws.com/t1ok-images-idx1-ubyte.gz\n",
      "Resolving fashion-mnist.s3-website.eu-central-1.amazonaws.com (fashion-mnist.s3-website.eu-central-1.amazonaws.com)... 52.219.73.66\n",
      "Connecting to fashion-mnist.s3-website.eu-central-1.amazonaws.com (fashion-mnist.s3-website.eu-central-1.amazonaws.com)|52.219.73.66|:80... connected.\n",
      "HTTP request sent, awaiting response... 404 Not Found\n",
      "2019-12-26 22:04:04 ERROR 404: Not Found.\n",
      "\n"
     ]
    }
   ],
   "source": [
    "!wget http://fashion-mnist.s3-website.eu-central-1.amazonaws.com/train-images-idx3-ubyte.gz\n",
    "!wget http://fashion-mnist.s3-website.eu-central-1.amazonaws.com/train-labels-idx1-ubyte.gz\n",
    "!wget http://fashion-mnist.s3-website.eu-central-1.amazonaws.com/t1ok-images-idx3-ubyte.gz\n",
    "!wget http://fashion-mnist.s3-website.eu-central-1.amazonaws.com/t1ok-images-idx1-ubyte.gz"
   ]
  },
  {
   "cell_type": "code",
   "execution_count": 15,
   "metadata": {
    "colab": {
     "base_uri": "https://localhost:8080/",
     "height": 119
    },
    "colab_type": "code",
    "executionInfo": {
     "elapsed": 5061,
     "status": "ok",
     "timestamp": 1577397918930,
     "user": {
      "displayName": "Jony Saha",
      "photoUrl": "https://lh3.googleusercontent.com/a-/AAuE7mBrOWwOjomTy_ONMaUlKyEAGHd9eyZM5MChVQRYpA=s64",
      "userId": "07890637528431419812"
     },
     "user_tz": -330
    },
    "id": "L_r1x_BIDJgn",
    "outputId": "4e924b50-0d81-4bae-e81e-18b8c1a1cebd"
   },
   "outputs": [
    {
     "name": "stdout",
     "output_type": "stream",
     "text": [
      "Extracting MNIST_Fashions/train-images-idx3-ubyte.gz\n",
      "Extracting MNIST_Fashions/train-labels-idx1-ubyte.gz\n",
      "Successfully downloaded t10k-images-idx3-ubyte.gz 1648877 bytes.\n",
      "Extracting MNIST_Fashions/t10k-images-idx3-ubyte.gz\n",
      "Successfully downloaded t10k-labels-idx1-ubyte.gz 4542 bytes.\n",
      "Extracting MNIST_Fashions/t10k-labels-idx1-ubyte.gz\n"
     ]
    }
   ],
   "source": [
    "!mkdir MNIST_Fashions\n",
    "! cp *.gz MNIST_Fashions/\n",
    "from tensorflow.examples.tutorials.mnist import input_data\n",
    "mnist = input_data.read_data_sets(\"MNIST_Fashions/\")"
   ]
  },
  {
   "cell_type": "code",
   "execution_count": 16,
   "metadata": {
    "colab": {
     "base_uri": "https://localhost:8080/",
     "height": 1000
    },
    "colab_type": "code",
    "executionInfo": {
     "elapsed": 872,
     "status": "ok",
     "timestamp": 1577397929643,
     "user": {
      "displayName": "Jony Saha",
      "photoUrl": "https://lh3.googleusercontent.com/a-/AAuE7mBrOWwOjomTy_ONMaUlKyEAGHd9eyZM5MChVQRYpA=s64",
      "userId": "07890637528431419812"
     },
     "user_tz": -330
    },
    "id": "BTOhoGOYDfDm",
    "outputId": "79c3601d-a401-402c-bbd0-84d81f45aa25"
   },
   "outputs": [
    {
     "name": "stdout",
     "output_type": "stream",
     "text": [
      "[0.         0.         0.         0.         0.         0.\n",
      " 0.         0.         0.         0.627451   0.42352945 0.454902\n",
      " 0.70980394 0.4784314  0.78823537 0.6039216  0.61960787 0.34509805\n",
      " 0.2784314  0.         0.         0.         0.         0.\n",
      " 0.         0.         0.         0.         0.         0.\n",
      " 0.         0.         0.         0.         0.         0.\n",
      " 0.         0.3137255  0.8078432  0.72156864 0.86274517 0.6392157\n",
      " 0.9058824  0.7843138  0.8000001  0.6862745  0.75294125 0.20784315\n",
      " 0.         0.         0.         0.         0.         0.\n",
      " 0.         0.         0.         0.         0.         0.\n",
      " 0.         0.         0.         0.         0.         0.3647059\n",
      " 0.9568628  0.75294125 0.7490196  0.7960785  0.7176471  0.7137255\n",
      " 0.7411765  0.74509805 0.854902   0.28235295 0.         0.\n",
      " 0.         0.         0.         0.         0.         0.\n",
      " 0.         0.         0.         0.         0.         0.\n",
      " 0.         0.         0.         0.38431376 0.8745099  0.73333335\n",
      " 0.7725491  0.7725491  0.74509805 0.74509805 0.7725491  0.7686275\n",
      " 0.7568628  0.37647063 0.         0.         0.         0.\n",
      " 0.         0.         0.         0.         0.         0.\n",
      " 0.         0.         0.         0.         0.         0.\n",
      " 0.         0.39607847 0.8588236  0.7254902  0.7725491  0.7803922\n",
      " 0.8000001  0.80392164 0.7843138  0.77647066 0.69411767 0.49803925\n",
      " 0.         0.         0.         0.         0.         0.\n",
      " 0.         0.         0.         0.         0.         0.\n",
      " 0.         0.         0.         0.         0.         0.43137258\n",
      " 0.86274517 0.7176471  0.75294125 0.8078432  0.8431373  0.85098046\n",
      " 0.79215693 0.78823537 0.6745098  0.45098042 0.         0.\n",
      " 0.         0.         0.         0.         0.         0.\n",
      " 0.         0.         0.         0.         0.         0.\n",
      " 0.         0.         0.         0.36078432 0.85098046 0.7176471\n",
      " 0.7058824  0.7372549  0.6509804  0.9176471  0.7568628  0.73333335\n",
      " 0.69803923 0.37647063 0.         0.         0.         0.\n",
      " 0.         0.         0.         0.         0.         0.\n",
      " 0.         0.         0.         0.         0.         0.\n",
      " 0.         0.3019608  0.8745099  0.7372549  0.69411767 0.75294125\n",
      " 0.6        0.9333334  0.7490196  0.7411765  0.70980394 0.3529412\n",
      " 0.         0.         0.         0.         0.         0.\n",
      " 0.         0.         0.         0.         0.         0.\n",
      " 0.         0.         0.         0.         0.         0.21568629\n",
      " 0.86666673 0.7137255  0.65882355 0.8352942  0.27450982 0.8941177\n",
      " 0.73333335 0.70980394 0.6901961  0.29803923 0.         0.\n",
      " 0.         0.         0.         0.         0.         0.\n",
      " 0.         0.         0.         0.         0.         0.\n",
      " 0.         0.         0.         0.04313726 0.86274517 0.7137255\n",
      " 0.67058825 0.854902   0.10588236 0.8980393  0.75294125 0.69411767\n",
      " 0.7058824  0.2392157  0.         0.         0.         0.\n",
      " 0.         0.         0.         0.         0.         0.\n",
      " 0.         0.         0.         0.         0.         0.\n",
      " 0.         0.         0.81568635 0.7294118  0.6784314  0.83921576\n",
      " 0.03137255 0.882353   0.7490196  0.6862745  0.7137255  0.16862746\n",
      " 0.         0.         0.         0.         0.         0.\n",
      " 0.         0.         0.         0.         0.         0.\n",
      " 0.         0.         0.         0.         0.         0.\n",
      " 0.7372549  0.7372549  0.69411767 0.8470589  0.         0.86666673\n",
      " 0.7568628  0.67058825 0.75294125 0.02745098 0.         0.\n",
      " 0.         0.         0.         0.         0.         0.\n",
      " 0.         0.         0.         0.         0.         0.\n",
      " 0.         0.         0.         0.         0.68235296 0.74509805\n",
      " 0.6901961  0.86274517 0.         0.83921576 0.7686275  0.6509804\n",
      " 0.68235296 0.         0.         0.         0.         0.\n",
      " 0.         0.         0.         0.         0.         0.\n",
      " 0.         0.         0.         0.         0.         0.\n",
      " 0.         0.         0.6392157  0.76470596 0.6862745  0.86274517\n",
      " 0.         0.83921576 0.7490196  0.65882355 0.65882355 0.\n",
      " 0.         0.         0.         0.         0.         0.\n",
      " 0.         0.         0.         0.         0.         0.\n",
      " 0.         0.         0.         0.         0.         0.\n",
      " 0.6        0.7686275  0.69411767 0.8588236  0.         0.83921576\n",
      " 0.7254902  0.6509804  0.6509804  0.         0.         0.\n",
      " 0.         0.         0.         0.         0.         0.\n",
      " 0.         0.         0.         0.         0.         0.\n",
      " 0.         0.         0.         0.         0.48627454 0.79215693\n",
      " 0.6862745  0.8745099  0.10196079 0.82745105 0.7137255  0.6392157\n",
      " 0.67058825 0.         0.         0.         0.         0.\n",
      " 0.         0.         0.         0.         0.         0.\n",
      " 0.         0.         0.         0.         0.         0.\n",
      " 0.         0.         0.32156864 0.7960785  0.68235296 0.909804\n",
      " 0.1764706  0.8117648  0.7058824  0.6313726  0.6156863  0.\n",
      " 0.         0.         0.         0.         0.         0.\n",
      " 0.         0.         0.         0.         0.         0.\n",
      " 0.         0.         0.         0.         0.         0.\n",
      " 0.24705884 0.7803922  0.69803923 0.9215687  0.13333334 0.85098046\n",
      " 0.7137255  0.6509804  0.6666667  0.         0.         0.\n",
      " 0.         0.         0.         0.         0.         0.\n",
      " 0.         0.         0.         0.         0.         0.\n",
      " 0.         0.         0.         0.         0.21960786 0.7725491\n",
      " 0.70980394 0.909804   0.10196079 0.8862746  0.69803923 0.6039216\n",
      " 0.61960787 0.         0.         0.         0.         0.\n",
      " 0.         0.         0.         0.         0.         0.\n",
      " 0.         0.         0.         0.         0.         0.\n",
      " 0.         0.         0.21960786 0.7803922  0.7058824  0.90196085\n",
      " 0.15294118 0.89019614 0.72156864 0.5882353  0.5529412  0.\n",
      " 0.         0.         0.         0.         0.         0.\n",
      " 0.         0.         0.         0.         0.         0.\n",
      " 0.         0.         0.         0.         0.         0.\n",
      " 0.14509805 0.7686275  0.7176471  0.86666673 0.16078432 0.8352942\n",
      " 0.7294118  0.65882355 0.54509807 0.         0.         0.\n",
      " 0.         0.         0.         0.         0.         0.\n",
      " 0.         0.         0.         0.         0.         0.\n",
      " 0.         0.         0.         0.         0.08627451 0.7686275\n",
      " 0.7294118  0.82745105 0.1254902  0.8941177  0.7176471  0.62352943\n",
      " 0.49803925 0.         0.         0.         0.         0.\n",
      " 0.         0.         0.         0.         0.         0.\n",
      " 0.         0.         0.         0.         0.         0.\n",
      " 0.         0.         0.07843138 0.7803922  0.7411765  0.86666673\n",
      " 0.10196079 0.92549026 0.7372549  0.6509804  0.5294118  0.\n",
      " 0.         0.         0.         0.         0.         0.\n",
      " 0.         0.         0.         0.         0.         0.\n",
      " 0.         0.         0.         0.         0.         0.\n",
      " 0.01568628 0.75294125 0.74509805 0.9176471  0.09803922 0.9490197\n",
      " 0.7803922  0.6784314  0.5529412  0.         0.         0.\n",
      " 0.         0.         0.         0.         0.         0.\n",
      " 0.         0.         0.         0.         0.         0.\n",
      " 0.         0.         0.         0.         0.         0.7490196\n",
      " 0.7372549  0.9686275  0.07450981 0.8980393  0.77647066 0.65882355\n",
      " 0.5019608  0.         0.         0.         0.         0.\n",
      " 0.         0.         0.         0.         0.         0.\n",
      " 0.         0.         0.         0.         0.         0.\n",
      " 0.         0.         0.         0.77647066 0.73333335 0.9803922\n",
      " 0.00784314 0.7960785  0.7843138  0.6627451  0.48627454 0.\n",
      " 0.         0.         0.         0.         0.         0.\n",
      " 0.         0.         0.         0.         0.         0.\n",
      " 0.         0.         0.         0.         0.         0.\n",
      " 0.         0.7725491  0.7725491  1.         0.         0.7843138\n",
      " 0.8352942  0.77647066 0.5294118  0.         0.         0.\n",
      " 0.         0.         0.         0.         0.         0.\n",
      " 0.         0.         0.         0.         0.         0.\n",
      " 0.         0.         0.         0.         0.         0.72156864\n",
      " 0.77647066 0.8000001  0.         0.454902   0.7372549  0.6627451\n",
      " 0.28627452 0.         0.         0.         0.         0.\n",
      " 0.         0.         0.         0.        ]\n"
     ]
    },
    {
     "data": {
      "text/plain": [
       "<matplotlib.image.AxesImage at 0x7f58b76a2550>"
      ]
     },
     "execution_count": 16,
     "metadata": {
      "tags": []
     },
     "output_type": "execute_result"
    },
    {
     "data": {
      "image/png": "[encoded data removed]",
      "text/plain": [
       "<Figure size 72x72 with 1 Axes>"
      ]
     },
     "metadata": {
      "tags": []
     },
     "output_type": "display_data"
    }
   ],
   "source": [
    "plt.figure(figsize=(1,1))\n",
    "sample_image = mnist.train.next_batch(1)[0]\n",
    "print(sample_image[0])\n",
    "\n",
    "sample_image=sample_image.reshape([28,28])\n",
    "plt.imshow(sample_image,cmap='Greys')"
   ]
  },
  {
   "cell_type": "code",
   "execution_count": 0,
   "metadata": {
    "colab": {},
    "colab_type": "code",
    "id": "CsLWph4yDnFr"
   },
   "outputs": [],
   "source": [
    "# Training parameters\n",
    "\n",
    "learning_rate=0.0002\n",
    "batch_size=128\n",
    "epochs=100000\n",
    "\n",
    "# Network parameters\n",
    "image_dim=784                       #image size 28x28\n",
    "gen_hidd_dim=256\n",
    "disc_hidd_dim=256\n",
    "z_noise_dim=100                      # input noise datapoint\n",
    "\n",
    "\n",
    "def xavier_init(shape):\n",
    "  return tf.random_normal(shape= shape,stddev=1./tf.sqrt(shape[0]/2.0))\n",
    "  "
   ]
  },
  {
   "cell_type": "code",
   "execution_count": 0,
   "metadata": {
    "colab": {},
    "colab_type": "code",
    "id": "TedAL0JUDsrN"
   },
   "outputs": [],
   "source": [
    "# define weights and bias dictionaries\n",
    "weights={ \"disc_H\"  :tf.Variable(xavier_init([image_dim,disc_hidd_dim])),\n",
    "          \"disc_final\" :tf.Variable(xavier_init([disc_hidd_dim,1])),\n",
    "          \"gen_H\"      :tf.Variable(xavier_init([z_noise_dim,gen_hidd_dim])),\n",
    "           \"gen_final\" :tf.Variable(xavier_init([gen_hidd_dim,image_dim]))\n",
    "        }\n",
    "\n",
    "bias=   { \"disc_H\"  :tf.Variable(xavier_init([disc_hidd_dim])),\n",
    "           \"disc_final\" :tf.Variable(xavier_init([1])), \n",
    "          \"gen_H\"      :tf.Variable(xavier_init([gen_hidd_dim])),\n",
    "           \"gen_final\" :tf.Variable(xavier_init([image_dim]))     \n",
    "        }"
   ]
  },
  {
   "cell_type": "code",
   "execution_count": 0,
   "metadata": {
    "colab": {},
    "colab_type": "code",
    "id": "CiS2Lc79Dxdo"
   },
   "outputs": [],
   "source": [
    " #Creating the computational graph\n",
    "\n",
    "#define Discriminator function\n",
    "\n",
    "def Discriminator(x):\n",
    "  hidden_layer=tf.nn.relu(tf.add(tf.matmul(x,weights[\"disc_H\"]),bias[\"disc_H\"]))\n",
    "  final_layer =tf.add(tf.matmul(hidden_layer,weights[\"disc_final\"]),bias[\"disc_final\"])\n",
    "  disc_output=tf.nn.sigmoid(final_layer)\n",
    "  return final_layer,disc_output\n",
    "\n",
    "#define Generator network\n",
    "\n",
    "def Generator(x):\n",
    "  hidden_layer=tf.nn.relu(tf.add(tf.matmul(x,weights[\"gen_H\"]),bias[\"gen_H\"]))\n",
    "  final_layer =tf.add(tf.matmul(hidden_layer,weights[\"gen_final\"]),bias[\"gen_final\"])\n",
    "  gen_output=tf.nn.sigmoid(final_layer)\n",
    "  return gen_output\n",
    "\n",
    "#define the placeholders for External input\n",
    "\n",
    "z_input= tf.placeholder(tf.float32,shape=[None,z_noise_dim],name=\"input_noise\")\n",
    "x_input= tf.placeholder(tf.float32,shape=[None,image_dim],name=\"real_input\")\n",
    "\n",
    "# Building the Generator Network\n",
    "with tf.name_scope(\"Generator\") as scope:\n",
    "    output_Gen=Generator(z_input)\n",
    "\n",
    "# Building the Discriminator Network\n",
    "with tf.name_scope(\"Discriminator\") as scope:\n",
    "   real_output1_Disc, real_output_Disc=Discriminator(x_input)          #implements D(x)\n",
    "   fake_output1_Disc, fake_output_Disc=Discriminator(output_Gen)       # implements D(G(x))\n",
    "\n",
    "\n"
   ]
  },
  {
   "cell_type": "code",
   "execution_count": 0,
   "metadata": {
    "colab": {},
    "colab_type": "code",
    "id": "BHpFHCdRD4Yu"
   },
   "outputs": [],
   "source": [
    "# First kind of loss\n",
    "\n",
    "with tf.name_scope(\"Discriminator_Loss\") as scope:\n",
    "  Discriminator_Loss=-tf.reduce_mean(tf.log(real_output_Disc + 0.0001) + tf.log(1.-fake_output_Disc + 0.0001))\n",
    "\n",
    "with tf.name_scope(\"Generator_Loss\") as scope:\n",
    "  Generator_Loss=-tf.reduce_mean(tf.log(fake_output_Disc + 0.0001))\n",
    "\n",
    "# Tensorboard summary\n",
    "Disc_loss_total=tf.summary.scalar(\"Disc_Total_loss\",Discriminator_Loss)\n",
    "Gen_loss_total=tf.summary.scalar(\"Gen_Loss\",Generator_Loss)\n"
   ]
  },
  {
   "cell_type": "code",
   "execution_count": 0,
   "metadata": {
    "colab": {},
    "colab_type": "code",
    "id": "8lp9HlqvECG0"
   },
   "outputs": [],
   "source": [
    "# Define the variables\n",
    "Generator_var=[weights[\"gen_H\"],weights[\"gen_final\"],bias[\"gen_H\"],bias[\"gen_final\"]]\n",
    "Discriminator_var=[weights[\"disc_H\"],weights[\"disc_final\"],bias[\"disc_H\"],bias[\"disc_final\"]]\n",
    "\n",
    "#define the optimizer\n",
    "with tf.name_scope(\"Optimizer_Discriminator\") as scope:\n",
    "  Discriminator_optimize=tf.train.AdamOptimizer(learning_rate=learning_rate).minimize(Discriminator_Loss,var_list=Discriminator_var)\n",
    "\n",
    "with tf.name_scope(\"Optimizer_Generator\") as scope:\n",
    "  Generator_optimize=tf.train.AdamOptimizer(learning_rate=learning_rate).minimize(Generator_Loss,var_list=Generator_var)\n",
    "  \n"
   ]
  },
  {
   "cell_type": "code",
   "execution_count": 22,
   "metadata": {
    "colab": {
     "base_uri": "https://localhost:8080/",
     "height": 867
    },
    "colab_type": "code",
    "executionInfo": {
     "elapsed": 2592368,
     "status": "ok",
     "timestamp": 1577400556705,
     "user": {
      "displayName": "Jony Saha",
      "photoUrl": "https://lh3.googleusercontent.com/a-/AAuE7mBrOWwOjomTy_ONMaUlKyEAGHd9eyZM5MChVQRYpA=s64",
      "userId": "07890637528431419812"
     },
     "user_tz": -330
    },
    "id": "DU86FMOTEGk8",
    "outputId": "f2ff444b-e3fb-4a72-dab5-b83e6c5ec0e1"
   },
   "outputs": [
    {
     "name": "stdout",
     "output_type": "stream",
     "text": [
      "Steps :0 :Generator Loss:2.1934854984283447,Discriminator Loss : 2.3275370597839355\n",
      "Steps :2000 :Generator Loss:4.711066246032715,Discriminator Loss : 0.027341142296791077\n",
      "Steps :4000 :Generator Loss:2.804594039916992,Discriminator Loss : 0.20030085742473602\n",
      "Steps :6000 :Generator Loss:2.808011054992676,Discriminator Loss : 0.29261094331741333\n",
      "Steps :8000 :Generator Loss:2.4133219718933105,Discriminator Loss : 0.3275071382522583\n",
      "Steps :10000 :Generator Loss:2.833071231842041,Discriminator Loss : 0.3078882396221161\n",
      "Steps :12000 :Generator Loss:2.285050868988037,Discriminator Loss : 0.3886064887046814\n",
      "Steps :14000 :Generator Loss:2.2419562339782715,Discriminator Loss : 0.5095335245132446\n",
      "Steps :16000 :Generator Loss:2.171544313430786,Discriminator Loss : 0.5210850238800049\n",
      "Steps :18000 :Generator Loss:2.2705607414245605,Discriminator Loss : 0.7510054111480713\n",
      "Steps :20000 :Generator Loss:2.408770799636841,Discriminator Loss : 0.5210355520248413\n",
      "Steps :22000 :Generator Loss:2.395066738128662,Discriminator Loss : 0.41783782839775085\n",
      "Steps :24000 :Generator Loss:2.104804515838623,Discriminator Loss : 0.6987003087997437\n",
      "Steps :26000 :Generator Loss:1.910707950592041,Discriminator Loss : 0.7393178939819336\n",
      "Steps :28000 :Generator Loss:2.7184553146362305,Discriminator Loss : 0.6082691550254822\n",
      "Steps :30000 :Generator Loss:2.143415927886963,Discriminator Loss : 0.791043758392334\n",
      "Steps :32000 :Generator Loss:2.4141407012939453,Discriminator Loss : 0.7448230981826782\n",
      "Steps :34000 :Generator Loss:2.2040493488311768,Discriminator Loss : 0.5858439803123474\n",
      "Steps :36000 :Generator Loss:2.017904758453369,Discriminator Loss : 0.8980763554573059\n",
      "Steps :38000 :Generator Loss:1.9026196002960205,Discriminator Loss : 0.7079762816429138\n",
      "Steps :40000 :Generator Loss:2.7654876708984375,Discriminator Loss : 0.5667046904563904\n",
      "Steps :42000 :Generator Loss:2.495006561279297,Discriminator Loss : 0.6439478397369385\n",
      "Steps :44000 :Generator Loss:2.436910629272461,Discriminator Loss : 0.6777443289756775\n",
      "Steps :46000 :Generator Loss:2.167987585067749,Discriminator Loss : 0.9076640605926514\n",
      "Steps :48000 :Generator Loss:2.023013114929199,Discriminator Loss : 0.9460333585739136\n",
      "Steps :50000 :Generator Loss:2.7394585609436035,Discriminator Loss : 0.6885539293289185\n",
      "Steps :52000 :Generator Loss:2.167910099029541,Discriminator Loss : 0.6831175088882446\n",
      "Steps :54000 :Generator Loss:2.7069883346557617,Discriminator Loss : 0.6101008057594299\n",
      "Steps :56000 :Generator Loss:2.201251745223999,Discriminator Loss : 0.7318364381790161\n",
      "Steps :58000 :Generator Loss:2.1337552070617676,Discriminator Loss : 0.6767018437385559\n",
      "Steps :60000 :Generator Loss:2.110795259475708,Discriminator Loss : 0.7375832796096802\n",
      "Steps :62000 :Generator Loss:1.9497466087341309,Discriminator Loss : 0.9371567964553833\n",
      "Steps :64000 :Generator Loss:1.6719915866851807,Discriminator Loss : 0.7728999853134155\n",
      "Steps :66000 :Generator Loss:1.8054908514022827,Discriminator Loss : 0.7918145060539246\n",
      "Steps :68000 :Generator Loss:2.1978492736816406,Discriminator Loss : 0.8851471543312073\n",
      "Steps :70000 :Generator Loss:1.3814499378204346,Discriminator Loss : 1.1534076929092407\n",
      "Steps :72000 :Generator Loss:2.2112269401550293,Discriminator Loss : 0.9561946392059326\n",
      "Steps :74000 :Generator Loss:2.1076536178588867,Discriminator Loss : 0.8425410389900208\n",
      "Steps :76000 :Generator Loss:2.278235912322998,Discriminator Loss : 0.9086683392524719\n",
      "Steps :78000 :Generator Loss:1.9521368741989136,Discriminator Loss : 0.7324614524841309\n",
      "Steps :80000 :Generator Loss:2.167879104614258,Discriminator Loss : 0.9153727293014526\n",
      "Steps :82000 :Generator Loss:2.11211895942688,Discriminator Loss : 1.020125389099121\n",
      "Steps :84000 :Generator Loss:2.4941210746765137,Discriminator Loss : 0.7206319570541382\n",
      "Steps :86000 :Generator Loss:1.9438363313674927,Discriminator Loss : 0.9125515222549438\n",
      "Steps :88000 :Generator Loss:2.118321180343628,Discriminator Loss : 1.0226562023162842\n",
      "Steps :90000 :Generator Loss:2.1701512336730957,Discriminator Loss : 0.8285549879074097\n",
      "Steps :92000 :Generator Loss:1.828033685684204,Discriminator Loss : 0.904000997543335\n",
      "Steps :94000 :Generator Loss:2.148251533508301,Discriminator Loss : 0.8101102709770203\n",
      "Steps :96000 :Generator Loss:2.3485631942749023,Discriminator Loss : 0.9335734844207764\n",
      "Steps :98000 :Generator Loss:2.2677321434020996,Discriminator Loss : 0.7293494939804077\n"
     ]
    }
   ],
   "source": [
    "# Initialize the Variables\n",
    "init=tf.global_variables_initializer()\n",
    "\n",
    "sess=tf.Session()\n",
    "sess.run(init)\n",
    "writer=tf.summary.FileWriter(\"./log\",sess.graph)\n",
    "\n",
    "for epoch in range(epochs):\n",
    "  x_batch,_=mnist.train.next_batch(batch_size)\n",
    "\n",
    "  #Generator noise to feed the discriminator\n",
    "  z_noise=np.random.uniform(-1.,1.,size=[batch_size,z_noise_dim])\n",
    "  _, Disc_loss_epoch=sess.run([Discriminator_optimize,Discriminator_Loss],feed_dict={x_input:x_batch,z_input:z_noise})\n",
    "  _, Gen_loss_epoch=sess.run([Generator_optimize,Generator_Loss],feed_dict={z_input:z_noise})\n",
    "\n",
    "  #Running the Discriminator summary\n",
    "  summary_Disc_Loss=sess.run(Disc_loss_total,feed_dict={x_input:x_batch,z_input:z_noise})\n",
    "  #Adding the Discriminator summary\n",
    "  writer.add_summary(summary_Disc_Loss,epoch)\n",
    "\n",
    "  #Running the Generator summary\n",
    "  summary_Gen_Loss=sess.run(Gen_loss_total,feed_dict={z_input:z_noise})\n",
    "  #Adding the Generator summary\n",
    "  writer.add_summary(summary_Gen_Loss,epoch)\n",
    "\n",
    "  if epoch % 2000 == 0:\n",
    "    print(\"Steps :{0} :Generator Loss:{1},Discriminator Loss : {2}\".format(epoch,Gen_loss_epoch,Disc_loss_epoch)) "
   ]
  },
  {
   "cell_type": "code",
   "execution_count": 23,
   "metadata": {
    "colab": {
     "base_uri": "https://localhost:8080/",
     "height": 377
    },
    "colab_type": "code",
    "executionInfo": {
     "elapsed": 1409,
     "status": "ok",
     "timestamp": 1577400705709,
     "user": {
      "displayName": "Jony Saha",
      "photoUrl": "https://lh3.googleusercontent.com/a-/AAuE7mBrOWwOjomTy_ONMaUlKyEAGHd9eyZM5MChVQRYpA=s64",
      "userId": "07890637528431419812"
     },
     "user_tz": -330
    },
    "id": "CAbjmcRnEMrY",
    "outputId": "850ee75a-1998-4f6e-8246-fb45711945af"
   },
   "outputs": [
    {
     "data": {
      "image/png": "[encoded data removed]",
      "text/plain": [
       "<Figure size 432x432 with 1 Axes>"
      ]
     },
     "metadata": {
      "tags": []
     },
     "output_type": "display_data"
    }
   ],
   "source": [
    "# Testing \n",
    "# Generative images from noise,using the generator network.\n",
    "n=6\n",
    "canvas = np.empty((28*n,28*n))\n",
    "for i in range(n):\n",
    "  #Noise input\n",
    "  z_noise=np.random.uniform(-1.,1.,size=[batch_size,z_noise_dim])\n",
    "  #Generative image from noise\n",
    "  g=sess.run(output_Gen,feed_dict={z_input:z_noise})\n",
    "  #Reverse colors for better display\n",
    "  g=-1*(g-1)\n",
    "  for j in range(n):\n",
    "    # Draw the generated digits\n",
    "    canvas[i*28:(i+1)*28,j*28:(j+1)*28]=g[j].reshape([28,28])\n",
    "\n",
    "plt.figure(figsize=(n,n))\n",
    "plt.imshow(canvas,origin=\"upper\",cmap=\"gray\")\n",
    "plt.show()\n"
   ]
  },
  {
   "cell_type": "code",
   "execution_count": 0,
   "metadata": {
    "colab": {},
    "colab_type": "code",
    "id": "Wmbc2Dd-ONmG"
   },
   "outputs": [],
   "source": []
  }
 ],
 "metadata": {
  "colab": {
   "name": "Untitled2.ipynb",
   "provenance": []
  },
  "kernelspec": {
   "display_name": "Python 3",
   "language": "python",
   "name": "python3"
  },
  "language_info": {
   "codemirror_mode": {
    "name": "ipython",
    "version": 3
   },
   "file_extension": ".py",
   "mimetype": "text/x-python",
   "name": "python",
   "nbconvert_exporter": "python",
   "pygments_lexer": "ipython3",
   "version": "3.7.4"
  }
 },
 "nbformat": 4,
 "nbformat_minor": 1
}
